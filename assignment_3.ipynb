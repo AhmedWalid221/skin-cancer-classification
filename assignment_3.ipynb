{
  "nbformat": 4,
  "nbformat_minor": 0,
  "metadata": {
    "colab": {
      "provenance": []
    },
    "kernelspec": {
      "name": "python3",
      "display_name": "Python 3"
    },
    "language_info": {
      "name": "python"
    }
  },
  "cells": [
    {
      "cell_type": "code",
      "source": [
        "import tensorflow as tf\n",
        "import numpy as np\n",
        "import cv2\n",
        "import os\n",
        "import PIL\n",
        "import matplotlib.pyplot as plt\n",
        "\n",
        "from tensorflow import keras\n",
        "from tensorflow.keras import layers\n",
        "from tensorflow.keras.models import Sequential"
      ],
      "metadata": {
        "id": "MUoL681XZqr3"
      },
      "execution_count": null,
      "outputs": []
    },
    {
      "cell_type": "code",
      "execution_count": null,
      "metadata": {
        "colab": {
          "base_uri": "https://localhost:8080/",
          "height": 108
        },
        "id": "OLYY7nxuXsT3",
        "outputId": "b70fbe5e-2886-4602-dd3c-13a3a08120e3"
      },
      "outputs": [
        {
          "output_type": "display_data",
          "data": {
            "text/plain": [
              "<IPython.core.display.HTML object>"
            ],
            "text/html": [
              "\n",
              "     <input type=\"file\" id=\"files-f113404d-5ad9-4e04-a494-f51870e9b1e7\" name=\"files[]\" multiple disabled\n",
              "        style=\"border:none\" />\n",
              "     <output id=\"result-f113404d-5ad9-4e04-a494-f51870e9b1e7\">\n",
              "      Upload widget is only available when the cell has been executed in the\n",
              "      current browser session. Please rerun this cell to enable.\n",
              "      </output>\n",
              "      <script>// Copyright 2017 Google LLC\n",
              "//\n",
              "// Licensed under the Apache License, Version 2.0 (the \"License\");\n",
              "// you may not use this file except in compliance with the License.\n",
              "// You may obtain a copy of the License at\n",
              "//\n",
              "//      http://www.apache.org/licenses/LICENSE-2.0\n",
              "//\n",
              "// Unless required by applicable law or agreed to in writing, software\n",
              "// distributed under the License is distributed on an \"AS IS\" BASIS,\n",
              "// WITHOUT WARRANTIES OR CONDITIONS OF ANY KIND, either express or implied.\n",
              "// See the License for the specific language governing permissions and\n",
              "// limitations under the License.\n",
              "\n",
              "/**\n",
              " * @fileoverview Helpers for google.colab Python module.\n",
              " */\n",
              "(function(scope) {\n",
              "function span(text, styleAttributes = {}) {\n",
              "  const element = document.createElement('span');\n",
              "  element.textContent = text;\n",
              "  for (const key of Object.keys(styleAttributes)) {\n",
              "    element.style[key] = styleAttributes[key];\n",
              "  }\n",
              "  return element;\n",
              "}\n",
              "\n",
              "// Max number of bytes which will be uploaded at a time.\n",
              "const MAX_PAYLOAD_SIZE = 100 * 1024;\n",
              "\n",
              "function _uploadFiles(inputId, outputId) {\n",
              "  const steps = uploadFilesStep(inputId, outputId);\n",
              "  const outputElement = document.getElementById(outputId);\n",
              "  // Cache steps on the outputElement to make it available for the next call\n",
              "  // to uploadFilesContinue from Python.\n",
              "  outputElement.steps = steps;\n",
              "\n",
              "  return _uploadFilesContinue(outputId);\n",
              "}\n",
              "\n",
              "// This is roughly an async generator (not supported in the browser yet),\n",
              "// where there are multiple asynchronous steps and the Python side is going\n",
              "// to poll for completion of each step.\n",
              "// This uses a Promise to block the python side on completion of each step,\n",
              "// then passes the result of the previous step as the input to the next step.\n",
              "function _uploadFilesContinue(outputId) {\n",
              "  const outputElement = document.getElementById(outputId);\n",
              "  const steps = outputElement.steps;\n",
              "\n",
              "  const next = steps.next(outputElement.lastPromiseValue);\n",
              "  return Promise.resolve(next.value.promise).then((value) => {\n",
              "    // Cache the last promise value to make it available to the next\n",
              "    // step of the generator.\n",
              "    outputElement.lastPromiseValue = value;\n",
              "    return next.value.response;\n",
              "  });\n",
              "}\n",
              "\n",
              "/**\n",
              " * Generator function which is called between each async step of the upload\n",
              " * process.\n",
              " * @param {string} inputId Element ID of the input file picker element.\n",
              " * @param {string} outputId Element ID of the output display.\n",
              " * @return {!Iterable<!Object>} Iterable of next steps.\n",
              " */\n",
              "function* uploadFilesStep(inputId, outputId) {\n",
              "  const inputElement = document.getElementById(inputId);\n",
              "  inputElement.disabled = false;\n",
              "\n",
              "  const outputElement = document.getElementById(outputId);\n",
              "  outputElement.innerHTML = '';\n",
              "\n",
              "  const pickedPromise = new Promise((resolve) => {\n",
              "    inputElement.addEventListener('change', (e) => {\n",
              "      resolve(e.target.files);\n",
              "    });\n",
              "  });\n",
              "\n",
              "  const cancel = document.createElement('button');\n",
              "  inputElement.parentElement.appendChild(cancel);\n",
              "  cancel.textContent = 'Cancel upload';\n",
              "  const cancelPromise = new Promise((resolve) => {\n",
              "    cancel.onclick = () => {\n",
              "      resolve(null);\n",
              "    };\n",
              "  });\n",
              "\n",
              "  // Wait for the user to pick the files.\n",
              "  const files = yield {\n",
              "    promise: Promise.race([pickedPromise, cancelPromise]),\n",
              "    response: {\n",
              "      action: 'starting',\n",
              "    }\n",
              "  };\n",
              "\n",
              "  cancel.remove();\n",
              "\n",
              "  // Disable the input element since further picks are not allowed.\n",
              "  inputElement.disabled = true;\n",
              "\n",
              "  if (!files) {\n",
              "    return {\n",
              "      response: {\n",
              "        action: 'complete',\n",
              "      }\n",
              "    };\n",
              "  }\n",
              "\n",
              "  for (const file of files) {\n",
              "    const li = document.createElement('li');\n",
              "    li.append(span(file.name, {fontWeight: 'bold'}));\n",
              "    li.append(span(\n",
              "        `(${file.type || 'n/a'}) - ${file.size} bytes, ` +\n",
              "        `last modified: ${\n",
              "            file.lastModifiedDate ? file.lastModifiedDate.toLocaleDateString() :\n",
              "                                    'n/a'} - `));\n",
              "    const percent = span('0% done');\n",
              "    li.appendChild(percent);\n",
              "\n",
              "    outputElement.appendChild(li);\n",
              "\n",
              "    const fileDataPromise = new Promise((resolve) => {\n",
              "      const reader = new FileReader();\n",
              "      reader.onload = (e) => {\n",
              "        resolve(e.target.result);\n",
              "      };\n",
              "      reader.readAsArrayBuffer(file);\n",
              "    });\n",
              "    // Wait for the data to be ready.\n",
              "    let fileData = yield {\n",
              "      promise: fileDataPromise,\n",
              "      response: {\n",
              "        action: 'continue',\n",
              "      }\n",
              "    };\n",
              "\n",
              "    // Use a chunked sending to avoid message size limits. See b/62115660.\n",
              "    let position = 0;\n",
              "    do {\n",
              "      const length = Math.min(fileData.byteLength - position, MAX_PAYLOAD_SIZE);\n",
              "      const chunk = new Uint8Array(fileData, position, length);\n",
              "      position += length;\n",
              "\n",
              "      const base64 = btoa(String.fromCharCode.apply(null, chunk));\n",
              "      yield {\n",
              "        response: {\n",
              "          action: 'append',\n",
              "          file: file.name,\n",
              "          data: base64,\n",
              "        },\n",
              "      };\n",
              "\n",
              "      let percentDone = fileData.byteLength === 0 ?\n",
              "          100 :\n",
              "          Math.round((position / fileData.byteLength) * 100);\n",
              "      percent.textContent = `${percentDone}% done`;\n",
              "\n",
              "    } while (position < fileData.byteLength);\n",
              "  }\n",
              "\n",
              "  // All done.\n",
              "  yield {\n",
              "    response: {\n",
              "      action: 'complete',\n",
              "    }\n",
              "  };\n",
              "}\n",
              "\n",
              "scope.google = scope.google || {};\n",
              "scope.google.colab = scope.google.colab || {};\n",
              "scope.google.colab._files = {\n",
              "  _uploadFiles,\n",
              "  _uploadFilesContinue,\n",
              "};\n",
              "})(self);\n",
              "</script> "
            ]
          },
          "metadata": {}
        },
        {
          "output_type": "stream",
          "name": "stdout",
          "text": [
            "Saving kaggle (2).json to kaggle (2) (3).json\n",
            "user uploaded file \"kaggle (2) (3).json\" with length 69 bytes\n",
            "mv: cannot stat 'kaggle.json': No such file or directory\n"
          ]
        }
      ],
      "source": [
        "from google.colab import files\n",
        "\n",
        "uploaded = files.upload()\n",
        "\n",
        "for fn in uploaded.keys():\n",
        "  print('user uploaded file \"{name}\" with length {length} bytes'.format(name = fn, length = len(uploaded[fn])))\n",
        "\n",
        "  !mkdir -p ~/.kaggle/ && mv kaggle.json ~/.kaggle/ && chmod 600 ~/.kaggle/kaggle.json"
      ]
    },
    {
      "cell_type": "code",
      "source": [
        "!kaggle datasets download -d fanconic/skin-cancer-malignant-vs-benign"
      ],
      "metadata": {
        "colab": {
          "base_uri": "https://localhost:8080/"
        },
        "id": "rj-52wo4X0Fp",
        "outputId": "679dfa7d-9cc6-49b6-c81e-90c83b3e5dce"
      },
      "execution_count": null,
      "outputs": [
        {
          "output_type": "stream",
          "name": "stdout",
          "text": [
            "Dataset URL: https://www.kaggle.com/datasets/fanconic/skin-cancer-malignant-vs-benign\n",
            "License(s): unknown\n",
            "skin-cancer-malignant-vs-benign.zip: Skipping, found more recently modified local copy (use --force to force download)\n"
          ]
        }
      ]
    },
    {
      "cell_type": "code",
      "source": [
        "from google.colab import drive\n",
        "drive.mount('/gdrive')"
      ],
      "metadata": {
        "colab": {
          "base_uri": "https://localhost:8080/"
        },
        "id": "KqRPyziNYOro",
        "outputId": "4db7159b-4ef6-45e5-b782-f7bc3ae34cbb"
      },
      "execution_count": null,
      "outputs": [
        {
          "output_type": "stream",
          "name": "stdout",
          "text": [
            "Drive already mounted at /gdrive; to attempt to forcibly remount, call drive.mount(\"/gdrive\", force_remount=True).\n"
          ]
        }
      ]
    },
    {
      "cell_type": "code",
      "source": [
        "!unzip \"/content/skin-cancer-malignant-vs-benign.zip\" -d '/content/uncompressed'"
      ],
      "metadata": {
        "colab": {
          "base_uri": "https://localhost:8080/"
        },
        "id": "1WeWDzo5YdUt",
        "outputId": "7e2441cc-7e22-461e-a052-fc3a4a24d219"
      },
      "execution_count": null,
      "outputs": [
        {
          "output_type": "stream",
          "name": "stdout",
          "text": [
            "Archive:  /content/skin-cancer-malignant-vs-benign.zip\n",
            "replace /content/uncompressed/data/test/benign/1.jpg? [y]es, [n]o, [A]ll, [N]one, [r]ename: "
          ]
        }
      ]
    },
    {
      "cell_type": "code",
      "source": [
        "import pathlib\n",
        "data_train = pathlib.Path('/content/uncompressed/train')"
      ],
      "metadata": {
        "id": "o52S7RlfY37_"
      },
      "execution_count": null,
      "outputs": []
    },
    {
      "cell_type": "code",
      "source": [
        "\n",
        "data_test = pathlib.Path('/content/uncompressed/test')"
      ],
      "metadata": {
        "id": "Mj90MNI7ZfYW"
      },
      "execution_count": null,
      "outputs": []
    },
    {
      "cell_type": "code",
      "source": [
        "train_images_dict = {\n",
        "    'malignant': list(data_train.glob('malignant/*')),\n",
        "    'benign': list(data_train.glob('benign/*'))\n",
        "}\n",
        "\n",
        "\n",
        "train_labels_dict = {\n",
        "    'malignant':0,\n",
        "    'benign':1,\n",
        "\n",
        "}\n",
        "\n",
        "\n",
        "test_images_dict = {\n",
        "    'malignant': list(data_test.glob('malignant/*')),\n",
        "    'benign': list(data_test.glob('benign/*'))\n",
        "}\n",
        "\n",
        "test_labels_dict = {\n",
        "    'malignant':0,\n",
        "    'benign':1,\n",
        "\n",
        "}"
      ],
      "metadata": {
        "id": "18-VPrxnZ6vb"
      },
      "execution_count": null,
      "outputs": []
    },
    {
      "cell_type": "code",
      "source": [
        "#for train"
      ],
      "metadata": {
        "id": "AX0NRE2IbzCj"
      },
      "execution_count": null,
      "outputs": []
    },
    {
      "cell_type": "code",
      "source": [
        "image_count = len(list(data_train.glob('*/*.jpg')))\n",
        "print(image_count)"
      ],
      "metadata": {
        "id": "mc_xGB75b1Pb",
        "colab": {
          "base_uri": "https://localhost:8080/"
        },
        "outputId": "fcac8433-6fcb-4c25-9320-c302f3d71652"
      },
      "execution_count": null,
      "outputs": [
        {
          "output_type": "stream",
          "name": "stdout",
          "text": [
            "2637\n"
          ]
        }
      ]
    },
    {
      "cell_type": "code",
      "source": [
        "image_count = len(list(data_test.glob('*/*.jpg')))\n",
        "print(image_count)"
      ],
      "metadata": {
        "colab": {
          "base_uri": "https://localhost:8080/"
        },
        "id": "u_KzDjsmkxq3",
        "outputId": "937a69b1-20d6-4a09-9459-a63d7c0fd6c4"
      },
      "execution_count": null,
      "outputs": [
        {
          "output_type": "stream",
          "name": "stdout",
          "text": [
            "660\n"
          ]
        }
      ]
    },
    {
      "cell_type": "code",
      "source": [
        "malignant = list(data_train.glob('malignant/*'))\n",
        "malignant[:5]"
      ],
      "metadata": {
        "colab": {
          "base_uri": "https://localhost:8080/"
        },
        "id": "LYAZBmtgl4In",
        "outputId": "2e9796f0-14f5-49d8-d3d6-a77fc78214ed"
      },
      "execution_count": null,
      "outputs": [
        {
          "output_type": "execute_result",
          "data": {
            "text/plain": [
              "[PosixPath('/content/uncompressed/train/malignant/1404.jpg'),\n",
              " PosixPath('/content/uncompressed/train/malignant/1325.jpg'),\n",
              " PosixPath('/content/uncompressed/train/malignant/1062.jpg'),\n",
              " PosixPath('/content/uncompressed/train/malignant/518.jpg'),\n",
              " PosixPath('/content/uncompressed/train/malignant/719.jpg')]"
            ]
          },
          "metadata": {},
          "execution_count": 14
        }
      ]
    },
    {
      "cell_type": "code",
      "source": [
        "PIL.Image.open(str(malignant[1]))"
      ],
      "metadata": {
        "colab": {
          "base_uri": "https://localhost:8080/",
          "height": 241
        },
        "id": "5NiLK1rqmDj6",
        "outputId": "d81c41a1-b3e5-47df-ffd1-2e7ae34a7d2a"
      },
      "execution_count": null,
      "outputs": [
        {
          "output_type": "execute_result",
          "data": {
            "text/plain": [
              "<PIL.JpegImagePlugin.JpegImageFile image mode=RGB size=224x224>"
            ],
            "image/png": "[encoded data removed]"
          },
          "metadata": {},
          "execution_count": 15
        }
      ]
    },
    {
      "cell_type": "code",
      "source": [
        "x_train , y_train =[], []\n",
        "for cancer_name, images in train_images_dict.items():\n",
        "  for image in images:\n",
        "    img = cv2.imread(str(image))\n",
        "    resized_image = cv2.resize(img,(180,180))\n",
        "    x_train.append(resized_image)\n",
        "    y_train.append(train_labels_dict[cancer_name])\n"
      ],
      "metadata": {
        "id": "tihi4LePmGN4"
      },
      "execution_count": null,
      "outputs": []
    },
    {
      "cell_type": "code",
      "source": [
        "x_test, y_test =[], []\n",
        "for cancer_name, images in test_images_dict.items():\n",
        "  for image in images:\n",
        "    img = cv2.imread(str(image))\n",
        "    resized_image = cv2.resize(img,(180,180))\n",
        "    x_test.append(resized_image)\n",
        "    y_test.append(test_labels_dict[cancer_name])\n"
      ],
      "metadata": {
        "id": "yGq1wq8Hmsgf"
      },
      "execution_count": null,
      "outputs": []
    },
    {
      "cell_type": "code",
      "source": [
        "x_train = np.array(x_train)\n",
        "y_train = np.array(y_train)\n",
        "x_test = np.array(x_test)\n",
        "y_test = np.array(y_test)"
      ],
      "metadata": {
        "id": "uzYSJs_9sXDB"
      },
      "execution_count": null,
      "outputs": []
    },
    {
      "cell_type": "code",
      "source": [
        "x_train_scaled = x_train/255\n",
        "x_test_scaled = x_test/255\n"
      ],
      "metadata": {
        "id": "sbVqw_ydsdys"
      },
      "execution_count": null,
      "outputs": []
    },
    {
      "cell_type": "code",
      "source": [
        "num_classes = 2\n",
        "model = Sequential([\n",
        "     layers.Conv2D(16, 3, padding = 'same', activation = 'relu'),\n",
        "     layers.MaxPooling2D(),\n",
        "     layers.Conv2D(32, 3, padding = 'same', activation = 'relu'),\n",
        "     layers.MaxPooling2D(),\n",
        "     layers.Conv2D(64, 3, padding = 'same', activation = 'relu'),\n",
        "     layers.MaxPooling2D(),\n",
        "     layers.Flatten(),\n",
        "     layers.Dense(128, activation = 'relu'),\n",
        "     layers.Dense(num_classes, activation = 'softmax')\n",
        " ])\n",
        "\n",
        "model.compile(\n",
        "    optimizer = 'adam',\n",
        "    loss = tf.keras.losses.SparseCategoricalCrossentropy(from_logits = True),\n",
        "    metrics = ['accuracy']\n",
        ")\n",
        "\n",
        "model.fit(x_train_scaled, y_train, epochs = 10)"
      ],
      "metadata": {
        "colab": {
          "base_uri": "https://localhost:8080/"
        },
        "id": "WfptyEY4swbh",
        "outputId": "af7d5e42-35e6-4228-b6c6-757bc3a30bef"
      },
      "execution_count": null,
      "outputs": [
        {
          "output_type": "stream",
          "name": "stdout",
          "text": [
            "Epoch 1/10\n",
            "83/83 [==============================] - 92s 1s/step - loss: 0.6171 - accuracy: 0.6663\n",
            "Epoch 2/10\n",
            "83/83 [==============================] - 87s 1s/step - loss: 0.4686 - accuracy: 0.7702\n",
            "Epoch 3/10\n",
            "83/83 [==============================] - 88s 1s/step - loss: 0.3922 - accuracy: 0.8024\n",
            "Epoch 4/10\n",
            "83/83 [==============================] - 90s 1s/step - loss: 0.3687 - accuracy: 0.8149\n",
            "Epoch 5/10\n",
            "83/83 [==============================] - 87s 1s/step - loss: 0.3660 - accuracy: 0.8161\n",
            "Epoch 6/10\n",
            "83/83 [==============================] - 93s 1s/step - loss: 0.3544 - accuracy: 0.8191\n",
            "Epoch 7/10\n",
            "83/83 [==============================] - 85s 1s/step - loss: 0.3245 - accuracy: 0.8453\n",
            "Epoch 8/10\n",
            "83/83 [==============================] - 89s 1s/step - loss: 0.3204 - accuracy: 0.8426\n",
            "Epoch 9/10\n",
            "83/83 [==============================] - 84s 1s/step - loss: 0.2927 - accuracy: 0.8604\n",
            "Epoch 10/10\n",
            "83/83 [==============================] - 89s 1s/step - loss: 0.2962 - accuracy: 0.8544\n"
          ]
        },
        {
          "output_type": "execute_result",
          "data": {
            "text/plain": [
              "<keras.src.callbacks.History at 0x7aa02161e260>"
            ]
          },
          "metadata": {},
          "execution_count": 21
        }
      ]
    },
    {
      "cell_type": "code",
      "source": [
        "model.evaluate(x_test_scaled, y_test)"
      ],
      "metadata": {
        "colab": {
          "base_uri": "https://localhost:8080/"
        },
        "id": "BMkkCvSOyC9Q",
        "outputId": "0d40a34c-9f3c-492e-cc49-afbce2c26c61"
      },
      "execution_count": null,
      "outputs": [
        {
          "output_type": "stream",
          "name": "stdout",
          "text": [
            "21/21 [==============================] - 9s 412ms/step - loss: 0.4107 - accuracy: 0.8091\n"
          ]
        },
        {
          "output_type": "execute_result",
          "data": {
            "text/plain": [
              "[0.41068747639656067, 0.8090909123420715]"
            ]
          },
          "metadata": {},
          "execution_count": 22
        }
      ]
    },
    {
      "cell_type": "code",
      "source": [
        "data_augmentation = keras.Sequential(\n",
        "    [\n",
        "        layers.RandomContrast(0.1, 0.1),\n",
        "        layers.RandomRotation(0.1),\n",
        "        layers.RandomZoom(0.1)\n",
        "    ]\n",
        ")"
      ],
      "metadata": {
        "id": "MXfQC80vyOna"
      },
      "execution_count": null,
      "outputs": []
    },
    {
      "cell_type": "code",
      "source": [
        "num_classes = 2\n",
        "model = Sequential([\n",
        "     data_augmentation,\n",
        "     layers.Conv2D(16, 3, padding = 'same', activation = 'relu'),\n",
        "     layers.MaxPooling2D(),\n",
        "     layers.Conv2D(32, 3, padding = 'same', activation = 'relu'),\n",
        "     layers.MaxPooling2D(),\n",
        "     layers.Conv2D(64, 3, padding = 'same', activation = 'relu'),\n",
        "     layers.MaxPooling2D(),\n",
        "     layers.Flatten(),\n",
        "     layers.Dense(128, activation = 'relu'),\n",
        "     layers.Dense(num_classes, activation = 'softmax')\n",
        " ])\n",
        "\n",
        "model.compile(\n",
        "    optimizer = 'adam',\n",
        "    loss = tf.keras.losses.SparseCategoricalCrossentropy(from_logits = True),\n",
        "    metrics = ['accuracy']\n",
        ")\n",
        "\n",
        "model.fit(x_train_scaled, y_train, epochs = 20)"
      ],
      "metadata": {
        "colab": {
          "base_uri": "https://localhost:8080/"
        },
        "id": "ZSxV8D2nyFwr",
        "outputId": "a60419b7-08a5-40e2-cb3e-241295e24051"
      },
      "execution_count": null,
      "outputs": [
        {
          "output_type": "stream",
          "name": "stdout",
          "text": [
            "Epoch 1/20\n",
            "83/83 [==============================] - 108s 1s/step - loss: 0.6042 - accuracy: 0.6803\n",
            "Epoch 2/20\n",
            "83/83 [==============================] - 106s 1s/step - loss: 0.4661 - accuracy: 0.7721\n",
            "Epoch 3/20\n",
            "83/83 [==============================] - 103s 1s/step - loss: 0.4088 - accuracy: 0.8062\n",
            "Epoch 4/20\n",
            "83/83 [==============================] - 105s 1s/step - loss: 0.4329 - accuracy: 0.7895\n",
            "Epoch 5/20\n",
            "83/83 [==============================] - 103s 1s/step - loss: 0.3911 - accuracy: 0.8127\n",
            "Epoch 6/20\n",
            "83/83 [==============================] - 102s 1s/step - loss: 0.3912 - accuracy: 0.8100\n",
            "Epoch 7/20\n",
            "83/83 [==============================] - 104s 1s/step - loss: 0.3960 - accuracy: 0.7975\n",
            "Epoch 8/20\n",
            "83/83 [==============================] - 107s 1s/step - loss: 0.3671 - accuracy: 0.8134\n",
            "Epoch 9/20\n",
            "83/83 [==============================] - 105s 1s/step - loss: 0.3637 - accuracy: 0.8305\n",
            "Epoch 10/20\n",
            "83/83 [==============================] - 103s 1s/step - loss: 0.3689 - accuracy: 0.8195\n",
            "Epoch 11/20\n",
            "83/83 [==============================] - 102s 1s/step - loss: 0.3554 - accuracy: 0.8237\n",
            "Epoch 12/20\n",
            "83/83 [==============================] - 100s 1s/step - loss: 0.3546 - accuracy: 0.8275\n",
            "Epoch 13/20\n",
            "83/83 [==============================] - 102s 1s/step - loss: 0.3602 - accuracy: 0.8225\n",
            "Epoch 14/20\n",
            "83/83 [==============================] - 99s 1s/step - loss: 0.3313 - accuracy: 0.8441\n",
            "Epoch 15/20\n",
            "83/83 [==============================] - 103s 1s/step - loss: 0.3235 - accuracy: 0.8415\n",
            "Epoch 16/20\n",
            "83/83 [==============================] - 100s 1s/step - loss: 0.3265 - accuracy: 0.8445\n",
            "Epoch 17/20\n",
            "83/83 [==============================] - 100s 1s/step - loss: 0.3285 - accuracy: 0.8495\n",
            "Epoch 18/20\n",
            "83/83 [==============================] - 100s 1s/step - loss: 0.3322 - accuracy: 0.8354\n",
            "Epoch 19/20\n",
            "83/83 [==============================] - 101s 1s/step - loss: 0.3162 - accuracy: 0.8476\n",
            "Epoch 20/20\n",
            "83/83 [==============================] - 103s 1s/step - loss: 0.3062 - accuracy: 0.8536\n"
          ]
        },
        {
          "output_type": "execute_result",
          "data": {
            "text/plain": [
              "<keras.src.callbacks.History at 0x7aa01c3dee60>"
            ]
          },
          "metadata": {},
          "execution_count": 24
        }
      ]
    },
    {
      "cell_type": "code",
      "source": [
        "model.evaluate(x_test_scaled, y_test)"
      ],
      "metadata": {
        "id": "XADDD1olyXQf",
        "colab": {
          "base_uri": "https://localhost:8080/"
        },
        "outputId": "0e82ba9c-e53b-440e-df7b-eb8b19b8ccaa"
      },
      "execution_count": null,
      "outputs": [
        {
          "output_type": "stream",
          "name": "stdout",
          "text": [
            "21/21 [==============================] - 6s 284ms/step - loss: 0.3464 - accuracy: 0.8530\n"
          ]
        },
        {
          "output_type": "execute_result",
          "data": {
            "text/plain": [
              "[0.3464251160621643, 0.8530303239822388]"
            ]
          },
          "metadata": {},
          "execution_count": 25
        }
      ]
    }
  ]
}